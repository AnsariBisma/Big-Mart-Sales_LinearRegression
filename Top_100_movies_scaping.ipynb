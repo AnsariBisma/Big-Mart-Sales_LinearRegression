{
  "nbformat": 4,
  "nbformat_minor": 0,
  "metadata": {
    "colab": {
      "provenance": [],
      "authorship_tag": "ABX9TyOLVb1lTxaaiCjGSb6Xl4o5",
      "include_colab_link": true
    },
    "kernelspec": {
      "name": "python3",
      "display_name": "Python 3"
    },
    "language_info": {
      "name": "python"
    }
  },
  "cells": [
    {
      "cell_type": "markdown",
      "metadata": {
        "id": "view-in-github",
        "colab_type": "text"
      },
      "source": [
        "<a href=\"https://colab.research.google.com/github/AnsariBisma/Big-Mart-Sales_LinearRegression/blob/main/Top_100_movies_scaping.ipynb\" target=\"_parent\"><img src=\"https://colab.research.google.com/assets/colab-badge.svg\" alt=\"Open In Colab\"/></a>"
      ]
    },
    {
      "cell_type": "code",
      "source": [
        "url = \"https://web.archive.org/web/20200518073855/https://www.empireonline.com/movies/features/best-movies-2/\"\n",
        "response = requests.get(url)\n",
        "html_text = response.text\n",
        "\n",
        "soup = BeautifulSoup(html_text, 'html.parser')\n",
        "all_movies = soup.find_all(name = 'h3', class_='title')\n",
        "\n",
        "movies_titles = [movie.getText() for movie in all_movies]\n",
        "print(movies_titles[::-1])\n",
        "\n",
        "for n in range(len(movies_titles) -1, 0, -1):\n",
        "  print(movies_titles[n])"
      ],
      "metadata": {
        "colab": {
          "base_uri": "https://localhost:8080/"
        },
        "id": "2eajfAI8UO1F",
        "outputId": "4dc2ade4-0748-4735-8de8-ae983598c2ab"
      },
      "execution_count": 41,
      "outputs": [
        {
          "output_type": "stream",
          "name": "stdout",
          "text": [
            "['1) The Godfather', '2) The Empire Strikes Back', '3) The Dark Knight', '4) The Shawshank Redemption', '5) Pulp Fiction', '6) Goodfellas', '7) Raiders Of The Lost Ark', '8) Jaws', '9) Star Wars', '10) The Lord Of The Rings: The Fellowship Of The Ring', '11) Back To The Future', '12: The Godfather Part II', '13) Blade Runner', '14) Alien', '15) Aliens', '16) The Lord Of The Rings: The Return Of The King', '17) Fight Club', '18) Inception', '19) Jurassic Park', '20) Die Hard', '21) 2001: A Space Odyssey', '22) Apocalypse Now', '23) The Lord Of The Rings: The Two Towers', '24) The Matrix', '25) Terminator 2: Judgment Day', '26) Heat', '27) The Good, The Bad And The Ugly', '28) Casablanca', '29) The Big Lebowski', '30) Seven', '31) Taxi Driver', '32) The Usual Suspects', \"33) Schindler's List\", '34) Guardians Of The Galaxy', '35) The Shining', '36) The Departed', '37) The Thing', '38) Mad Max: Fury Road', '39) Saving Private Ryan', '40) 12 Angry Men', '41) Eternal Sunshine Of The Spotless Mind', '42) There Will Be Blood', \"43) One Flew Over The Cuckoo's Nest\", '44) Gladiator', '45) Drive', '46) Citizen Kane', '47) Interstellar', '48) The Silence Of The Lambs', '49) Trainspotting', '50) Lawrence Of Arabia', \"51) It's A Wonderful Life\", '52) Once Upon A Time In The West', '53) Psycho', '54) Vertigo', \"55) Pan's Labyrinth\", '56) Reservoir Dogs', '57) Whiplash', '58) Inglourious Basterds', '59) E.T. â\\x80\\x93 The Extra Terrestrial', '60) American Beauty', '61) Forrest Gump', '62) La La Land', '63) Donnie Darko', '64) L.A. Confidential', '65) Avengers Assemble', '66) Return Of The Jedi', '67) Memento', '68) Ghostbusters', \"69) Singin' In The Rain\", '70) The Lion King', '71) Hot Fuzz', '72) Rear Window', '73) Seven Samurai', '74) Mulholland Dr.', '75) Fargo', '76) A Clockwork Orange', '77) Toy Story', '78) Oldboy', '79) Captain America: Civil War', '15) Spirited Away', '81) The Social Network', '82) Some Like It Hot', '83) True Romance', '84) Rocky', '85) LÃ©on', '86) Indiana Jones And The Last Crusade', '87) Predator', '88) The Exorcist', '89) Shaun Of The Dead', '90) No Country For Old Men', '91) The Prestige', '92) The Terminator', '93) The Princess Bride', '94) Lost In Translation', '95) Arrival', '96) Good Will Hunting', '97) Titanic', '98) Amelie', '99) Raging Bull', '100) Stand By Me']\n",
            "1) The Godfather\n",
            "2) The Empire Strikes Back\n",
            "3) The Dark Knight\n",
            "4) The Shawshank Redemption\n",
            "5) Pulp Fiction\n",
            "6) Goodfellas\n",
            "7) Raiders Of The Lost Ark\n",
            "8) Jaws\n",
            "9) Star Wars\n",
            "10) The Lord Of The Rings: The Fellowship Of The Ring\n",
            "11) Back To The Future\n",
            "12: The Godfather Part II\n",
            "13) Blade Runner\n",
            "14) Alien\n",
            "15) Aliens\n",
            "16) The Lord Of The Rings: The Return Of The King\n",
            "17) Fight Club\n",
            "18) Inception\n",
            "19) Jurassic Park\n",
            "20) Die Hard\n",
            "21) 2001: A Space Odyssey\n",
            "22) Apocalypse Now\n",
            "23) The Lord Of The Rings: The Two Towers\n",
            "24) The Matrix\n",
            "25) Terminator 2: Judgment Day\n",
            "26) Heat\n",
            "27) The Good, The Bad And The Ugly\n",
            "28) Casablanca\n",
            "29) The Big Lebowski\n",
            "30) Seven\n",
            "31) Taxi Driver\n",
            "32) The Usual Suspects\n",
            "33) Schindler's List\n",
            "34) Guardians Of The Galaxy\n",
            "35) The Shining\n",
            "36) The Departed\n",
            "37) The Thing\n",
            "38) Mad Max: Fury Road\n",
            "39) Saving Private Ryan\n",
            "40) 12 Angry Men\n",
            "41) Eternal Sunshine Of The Spotless Mind\n",
            "42) There Will Be Blood\n",
            "43) One Flew Over The Cuckoo's Nest\n",
            "44) Gladiator\n",
            "45) Drive\n",
            "46) Citizen Kane\n",
            "47) Interstellar\n",
            "48) The Silence Of The Lambs\n",
            "49) Trainspotting\n",
            "50) Lawrence Of Arabia\n",
            "51) It's A Wonderful Life\n",
            "52) Once Upon A Time In The West\n",
            "53) Psycho\n",
            "54) Vertigo\n",
            "55) Pan's Labyrinth\n",
            "56) Reservoir Dogs\n",
            "57) Whiplash\n",
            "58) Inglourious Basterds\n",
            "59) E.T. â The Extra Terrestrial\n",
            "60) American Beauty\n",
            "61) Forrest Gump\n",
            "62) La La Land\n",
            "63) Donnie Darko\n",
            "64) L.A. Confidential\n",
            "65) Avengers Assemble\n",
            "66) Return Of The Jedi\n",
            "67) Memento\n",
            "68) Ghostbusters\n",
            "69) Singin' In The Rain\n",
            "70) The Lion King\n",
            "71) Hot Fuzz\n",
            "72) Rear Window\n",
            "73) Seven Samurai\n",
            "74) Mulholland Dr.\n",
            "75) Fargo\n",
            "76) A Clockwork Orange\n",
            "77) Toy Story\n",
            "78) Oldboy\n",
            "79) Captain America: Civil War\n",
            "15) Spirited Away\n",
            "81) The Social Network\n",
            "82) Some Like It Hot\n",
            "83) True Romance\n",
            "84) Rocky\n",
            "85) LÃ©on\n",
            "86) Indiana Jones And The Last Crusade\n",
            "87) Predator\n",
            "88) The Exorcist\n",
            "89) Shaun Of The Dead\n",
            "90) No Country For Old Men\n",
            "91) The Prestige\n",
            "92) The Terminator\n",
            "93) The Princess Bride\n",
            "94) Lost In Translation\n",
            "95) Arrival\n",
            "96) Good Will Hunting\n",
            "97) Titanic\n",
            "98) Amelie\n",
            "99) Raging Bull\n"
          ]
        }
      ]
    },
    {
      "cell_type": "code",
      "source": [
        "\n"
      ],
      "metadata": {
        "colab": {
          "base_uri": "https://localhost:8080/"
        },
        "id": "fNNtTjghYfd4",
        "outputId": "c5a3d5d7-5e5d-48db-97a2-6fc0223f2619"
      },
      "execution_count": 20,
      "outputs": [
        {
          "output_type": "stream",
          "name": "stdout",
          "text": [
            "[]\n"
          ]
        }
      ]
    },
    {
      "cell_type": "markdown",
      "source": [
        "# New Section"
      ],
      "metadata": {
        "id": "srvfa20Di8P1"
      }
    },
    {
      "cell_type": "code",
      "source": [
        "from google.colab import drive\n",
        "drive.mount('/content/drive')"
      ],
      "metadata": {
        "id": "K9iCxMssjA4P"
      },
      "execution_count": null,
      "outputs": []
    }
  ]
}